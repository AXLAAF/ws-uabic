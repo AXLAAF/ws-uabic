{
 "cells": [
  {
   "attachments": {},
   "cell_type": "markdown",
   "metadata": {},
   "source": [
    "# Creación de un modelo de Aprendizaje Automático."
   ]
  },
  {
   "attachments": {},
   "cell_type": "markdown",
   "metadata": {},
   "source": [
    "## Regresión lineal\n",
    "\n",
    "La regresión lineal es un algoritmo básico de aprendizaje automático utilizado para modelar la relación entre una **variable independiente** (característica) y una **variable dependiente** (objetivo) que es de naturaleza continua. \n",
    "\n",
    "Se basa en la suposición de que la relación entre las variables puede aproximarse por una función lineal. La regresión lineal busca encontrar la mejor línea recta que se ajuste a los datos de entrenamiento y pueda usarse para hacer predicciones en nuevos datos."
   ]
  },
  {
   "attachments": {},
   "cell_type": "markdown",
   "metadata": {},
   "source": [
    "## Las matemáticas detrás de la regresión\n",
    "\n",
    "La ecuación matemática de la regresión lineal puede representarse como:\n",
    "\n",
    "y = mx + b\n",
    "\n",
    "Donde:\n",
    "y es la variable dependiente (objetivo).\n",
    "x es la variable independiente (característica).\n",
    "m es la pendiente de la línea, que representa la relación entre x e y.\n",
    "b es el término de sesgo o intersección, que indica el valor de y cuando x es igual a cero."
   ]
  },
  {
   "attachments": {},
   "cell_type": "markdown",
   "metadata": {},
   "source": [
    "*El objetivo de la regresión lineal es encontrar los valores óptimos para m y b que minimicen la diferencia entre las predicciones del modelo y los valores reales de y en los datos de entrenamiento.*"
   ]
  },
  {
   "cell_type": "code",
   "execution_count": null,
   "metadata": {},
   "outputs": [],
   "source": [
    "import numpy as np\n",
    "import pandas as pd\n",
    "import matplotlib.pyplot as plt\n",
    "\n",
    "# Datos de ejemplo\n",
    "x = np.array([1, 2, 3, 4, 5, 6, 7, 8, 9, 10])  # Variable independiente\n",
    "y = np.array([3, 5, 7, 9, 11, 13, 15, 17, 19, 21])  # Variable dependiente\n",
    "\n",
    "# Crear un DataFrame de Pandas con los datos\n",
    "data = pd.DataFrame({'X': x, 'Y': y})\n",
    "\n",
    "# Calcular los coeficientes de la regresión lineal utilizando la función polyfit de NumPy\n",
    "coefficients = np.polyfit(x, y, 1)\n",
    "m = coefficients[0]  # Pendiente de la recta\n",
    "b = coefficients[1]  # Término independiente de la recta\n",
    "\n",
    "# Crear una función de predicción basada en la regresión lineal\n",
    "def linear_regression(x):\n",
    "    return m * x + b\n",
    "\n",
    "# Calcular las predicciones para los datos de entrada\n",
    "predictions = linear_regression(x)\n",
    "\n",
    "# Graficar los datos de entrada y la línea de regresión\n",
    "plt.scatter(x, y, color='b', label='Datos reales')\n",
    "plt.plot(x, predictions, color='r', label='Regresión lineal')\n",
    "plt.xlabel('X')\n",
    "plt.ylabel('Y')\n",
    "plt.title('Regresión Lineal')\n",
    "plt.legend()\n",
    "plt.show()\n"
   ]
  },
  {
   "attachments": {},
   "cell_type": "markdown",
   "metadata": {},
   "source": [
    "Este código muestra un ejemplo simple de regresión lineal utilizando la función **polyfit** de NumPy para calcular los coeficientes de la regresión lineal (pendiente y término independiente). Luego, se define una función **linear_regression** que utiliza estos coeficientes para hacer predicciones basadas en la regresión lineal."
   ]
  },
  {
   "attachments": {},
   "cell_type": "markdown",
   "metadata": {},
   "source": [
    "## Modelo de clasificación\n",
    "\n",
    "Ahora contruiremos nuestro propio modelo de clasificación. Para ello, utilizaremos la herramienta [Teachable Machine](https://teachablemachine.withgoogle.com/train) y la base de datos [Apples or tomatoes - image classification](https://www.kaggle.com/datasets/samuelcortinhas/apples-or-tomatoes-image-classification) para crear nuestr modelo."
   ]
  },
  {
   "attachments": {},
   "cell_type": "markdown",
   "metadata": {},
   "source": []
  }
 ],
 "metadata": {
  "kernelspec": {
   "display_name": "Python 3",
   "language": "python",
   "name": "python3"
  },
  "language_info": {
   "codemirror_mode": {
    "name": "ipython",
    "version": 3
   },
   "file_extension": ".py",
   "mimetype": "text/x-python",
   "name": "python",
   "nbconvert_exporter": "python",
   "pygments_lexer": "ipython3",
   "version": "3.10.4"
  },
  "orig_nbformat": 4
 },
 "nbformat": 4,
 "nbformat_minor": 2
}
